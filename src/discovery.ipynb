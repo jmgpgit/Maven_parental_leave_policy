{
 "cells": [
  {
   "cell_type": "code",
   "execution_count": 26,
   "metadata": {},
   "outputs": [],
   "source": [
    "import pandas as pd\n",
    "import numpy as np\n",
    "import matplotlib.pyplot as plt\n",
    "import seaborn as sns\n",
    "from ydata_profiling import ProfileReport"
   ]
  },
  {
   "cell_type": "code",
   "execution_count": 27,
   "metadata": {},
   "outputs": [],
   "source": [
    "import os    \n",
    "from chardet import detect\n",
    "\n",
    "# get file encoding type\n",
    "def get_encoding_type(file):\n",
    "    with open(file, 'rb') as f:\n",
    "        rawdata = f.read()\n",
    "    return detect(rawdata)['encoding']"
   ]
  },
  {
   "cell_type": "code",
   "execution_count": 28,
   "metadata": {},
   "outputs": [],
   "source": [
    "dictionary = pd.read_csv('../data/data_dictionary.csv', encoding=get_encoding_type('../data/data_dictionary.csv'))\n",
    "data = pd.read_csv('../data/parental_leave.csv', encoding=get_encoding_type('../data/parental_leave.csv'))"
   ]
  },
  {
   "cell_type": "code",
   "execution_count": 29,
   "metadata": {},
   "outputs": [
    {
     "data": {
      "text/plain": [
       "{'Company': 'Company name',\n",
       " 'Industry': 'Company industry & sub-industry (Industry: Sub-industry)',\n",
       " 'Paid Maternity Leave': 'Paid weeks off from work for mothers after the birth of their child',\n",
       " 'Unpaid Maternity Leave': 'Unpaid weeks off from work for mothers after the birth of their child',\n",
       " 'Paid Paternity Leave': 'Paid weeks off from work for fathers after the birth of their child',\n",
       " 'Unpaid Paternity Leave': 'Unpaid weeks off from work for fathers after the birth of their child'}"
      ]
     },
     "execution_count": 29,
     "metadata": {},
     "output_type": "execute_result"
    }
   ],
   "source": [
    "dict_dict = {field : description for field, description in zip(dictionary['Field'][:-1], dictionary['Description'][:-1])}\n",
    "\n",
    "dict_dict"
   ]
  },
  {
   "cell_type": "code",
   "execution_count": 30,
   "metadata": {},
   "outputs": [],
   "source": [
    "data = data.drop(columns=data.columns[6:])\n",
    "data.columns = data.columns.str.replace(' ', '_').str.lower()"
   ]
  },
  {
   "cell_type": "code",
   "execution_count": 31,
   "metadata": {},
   "outputs": [],
   "source": [
    "data['main_industry'] = data.industry.str.split(':').str[0].str.replace('&', 'and').str.strip()\n",
    "data['sub_industry'] = data.industry.str.split(':').str[1].str.replace('&', 'and').str.strip()\n",
    "data = data.drop(columns='industry')"
   ]
  },
  {
   "cell_type": "code",
   "execution_count": 32,
   "metadata": {},
   "outputs": [
    {
     "data": {
      "text/html": [
       "<div>\n",
       "<style scoped>\n",
       "    .dataframe tbody tr th:only-of-type {\n",
       "        vertical-align: middle;\n",
       "    }\n",
       "\n",
       "    .dataframe tbody tr th {\n",
       "        vertical-align: top;\n",
       "    }\n",
       "\n",
       "    .dataframe thead th {\n",
       "        text-align: right;\n",
       "    }\n",
       "</style>\n",
       "<table border=\"1\" class=\"dataframe\">\n",
       "  <thead>\n",
       "    <tr style=\"text-align: right;\">\n",
       "      <th></th>\n",
       "      <th>company</th>\n",
       "      <th>paid_maternity_leave</th>\n",
       "      <th>unpaid_maternity_leave</th>\n",
       "      <th>paid_paternity_leave</th>\n",
       "      <th>unpaid_paternity_leave</th>\n",
       "      <th>main_industry</th>\n",
       "      <th>sub_industry</th>\n",
       "    </tr>\n",
       "  </thead>\n",
       "  <tbody>\n",
       "    <tr>\n",
       "      <th>1023</th>\n",
       "      <td>ASML</td>\n",
       "      <td>52.0</td>\n",
       "      <td>40.0</td>\n",
       "      <td>NaN</td>\n",
       "      <td>NaN</td>\n",
       "      <td>NaN</td>\n",
       "      <td>NaN</td>\n",
       "    </tr>\n",
       "    <tr>\n",
       "      <th>1024</th>\n",
       "      <td>INK Communications Co.</td>\n",
       "      <td>10.0</td>\n",
       "      <td>2.0</td>\n",
       "      <td>NaN</td>\n",
       "      <td>NaN</td>\n",
       "      <td>NaN</td>\n",
       "      <td>NaN</td>\n",
       "    </tr>\n",
       "    <tr>\n",
       "      <th>1025</th>\n",
       "      <td>Rokt</td>\n",
       "      <td>15.0</td>\n",
       "      <td>0.0</td>\n",
       "      <td>NaN</td>\n",
       "      <td>NaN</td>\n",
       "      <td>NaN</td>\n",
       "      <td>NaN</td>\n",
       "    </tr>\n",
       "  </tbody>\n",
       "</table>\n",
       "</div>"
      ],
      "text/plain": [
       "                     company  paid_maternity_leave  unpaid_maternity_leave  \\\n",
       "1023                    ASML                  52.0                    40.0   \n",
       "1024  INK Communications Co.                  10.0                     2.0   \n",
       "1025                    Rokt                  15.0                     0.0   \n",
       "\n",
       "      paid_paternity_leave  unpaid_paternity_leave main_industry sub_industry  \n",
       "1023                   NaN                     NaN           NaN          NaN  \n",
       "1024                   NaN                     NaN           NaN          NaN  \n",
       "1025                   NaN                     NaN           NaN          NaN  "
      ]
     },
     "execution_count": 32,
     "metadata": {},
     "output_type": "execute_result"
    }
   ],
   "source": [
    "data[data.main_industry.isna()]"
   ]
  },
  {
   "cell_type": "code",
   "execution_count": 33,
   "metadata": {},
   "outputs": [],
   "source": [
    "data.loc[data[data.company == 'ASML'].index, 'main_industry'] = 'Electronics'\n",
    "data.loc[data[data.company == 'Rokt'].index, 'main_industry'] = 'Technology'\n",
    "data.loc[data[data.company == 'Rokt'].index, 'sub_industry'] = 'Software'\n",
    "data.loc[data[data.company == 'INK Communications Co.'].index, 'main_industry'] = 'Public Relations'"
   ]
  },
  {
   "cell_type": "code",
   "execution_count": 34,
   "metadata": {},
   "outputs": [
    {
     "data": {
      "text/html": [
       "<div>\n",
       "<style scoped>\n",
       "    .dataframe tbody tr th:only-of-type {\n",
       "        vertical-align: middle;\n",
       "    }\n",
       "\n",
       "    .dataframe tbody tr th {\n",
       "        vertical-align: top;\n",
       "    }\n",
       "\n",
       "    .dataframe thead th {\n",
       "        text-align: right;\n",
       "    }\n",
       "</style>\n",
       "<table border=\"1\" class=\"dataframe\">\n",
       "  <thead>\n",
       "    <tr style=\"text-align: right;\">\n",
       "      <th></th>\n",
       "      <th>company</th>\n",
       "      <th>paid_maternity_leave</th>\n",
       "      <th>unpaid_maternity_leave</th>\n",
       "      <th>paid_paternity_leave</th>\n",
       "      <th>unpaid_paternity_leave</th>\n",
       "      <th>main_industry</th>\n",
       "      <th>sub_industry</th>\n",
       "    </tr>\n",
       "  </thead>\n",
       "  <tbody>\n",
       "    <tr>\n",
       "      <th>0</th>\n",
       "      <td>Epsilon</td>\n",
       "      <td>6.0</td>\n",
       "      <td>6.0</td>\n",
       "      <td>6.0</td>\n",
       "      <td>6.0</td>\n",
       "      <td>Advertising</td>\n",
       "      <td>NaN</td>\n",
       "    </tr>\n",
       "    <tr>\n",
       "      <th>1</th>\n",
       "      <td>The Walt Disney Company</td>\n",
       "      <td>5.0</td>\n",
       "      <td>4.0</td>\n",
       "      <td>4.5</td>\n",
       "      <td>4.0</td>\n",
       "      <td>Arts and Entertainment</td>\n",
       "      <td>NaN</td>\n",
       "    </tr>\n",
       "    <tr>\n",
       "      <th>2</th>\n",
       "      <td>Guild Education</td>\n",
       "      <td>14.0</td>\n",
       "      <td>0.0</td>\n",
       "      <td>8.0</td>\n",
       "      <td>4.0</td>\n",
       "      <td>Business Services</td>\n",
       "      <td>Other</td>\n",
       "    </tr>\n",
       "    <tr>\n",
       "      <th>3</th>\n",
       "      <td>WeWork</td>\n",
       "      <td>14.0</td>\n",
       "      <td>2.0</td>\n",
       "      <td>16.0</td>\n",
       "      <td>4.0</td>\n",
       "      <td>Business Services</td>\n",
       "      <td>Other</td>\n",
       "    </tr>\n",
       "    <tr>\n",
       "      <th>4</th>\n",
       "      <td>Randstad USA</td>\n",
       "      <td>5.0</td>\n",
       "      <td>7.0</td>\n",
       "      <td>0.0</td>\n",
       "      <td>0.0</td>\n",
       "      <td>Business Services</td>\n",
       "      <td>Staffing and Outsourcing</td>\n",
       "    </tr>\n",
       "  </tbody>\n",
       "</table>\n",
       "</div>"
      ],
      "text/plain": [
       "                   company  paid_maternity_leave  unpaid_maternity_leave  \\\n",
       "0                  Epsilon                   6.0                     6.0   \n",
       "1  The Walt Disney Company                   5.0                     4.0   \n",
       "2          Guild Education                  14.0                     0.0   \n",
       "3                   WeWork                  14.0                     2.0   \n",
       "4             Randstad USA                   5.0                     7.0   \n",
       "\n",
       "   paid_paternity_leave  unpaid_paternity_leave           main_industry  \\\n",
       "0                   6.0                     6.0             Advertising   \n",
       "1                   4.5                     4.0  Arts and Entertainment   \n",
       "2                   8.0                     4.0       Business Services   \n",
       "3                  16.0                     4.0       Business Services   \n",
       "4                   0.0                     0.0       Business Services   \n",
       "\n",
       "               sub_industry  \n",
       "0                       NaN  \n",
       "1                       NaN  \n",
       "2                     Other  \n",
       "3                     Other  \n",
       "4  Staffing and Outsourcing  "
      ]
     },
     "execution_count": 34,
     "metadata": {},
     "output_type": "execute_result"
    }
   ],
   "source": [
    "data.head()"
   ]
  },
  {
   "cell_type": "code",
   "execution_count": 35,
   "metadata": {},
   "outputs": [
    {
     "name": "stdout",
     "output_type": "stream",
     "text": [
      "<class 'pandas.core.frame.DataFrame'>\n",
      "RangeIndex: 1601 entries, 0 to 1600\n",
      "Data columns (total 7 columns):\n",
      " #   Column                  Non-Null Count  Dtype  \n",
      "---  ------                  --------------  -----  \n",
      " 0   company                 1601 non-null   object \n",
      " 1   paid_maternity_leave    1601 non-null   float64\n",
      " 2   unpaid_maternity_leave  1494 non-null   float64\n",
      " 3   paid_paternity_leave    289 non-null    float64\n",
      " 4   unpaid_paternity_leave  64 non-null     float64\n",
      " 5   main_industry           1601 non-null   object \n",
      " 6   sub_industry            1316 non-null   object \n",
      "dtypes: float64(4), object(3)\n",
      "memory usage: 87.7+ KB\n"
     ]
    }
   ],
   "source": [
    "data.info()"
   ]
  },
  {
   "cell_type": "code",
   "execution_count": 36,
   "metadata": {},
   "outputs": [
    {
     "data": {
      "text/html": [
       "<div>\n",
       "<style scoped>\n",
       "    .dataframe tbody tr th:only-of-type {\n",
       "        vertical-align: middle;\n",
       "    }\n",
       "\n",
       "    .dataframe tbody tr th {\n",
       "        vertical-align: top;\n",
       "    }\n",
       "\n",
       "    .dataframe thead th {\n",
       "        text-align: right;\n",
       "    }\n",
       "</style>\n",
       "<table border=\"1\" class=\"dataframe\">\n",
       "  <thead>\n",
       "    <tr style=\"text-align: right;\">\n",
       "      <th></th>\n",
       "      <th>count</th>\n",
       "      <th>mean</th>\n",
       "      <th>std</th>\n",
       "      <th>min</th>\n",
       "      <th>25%</th>\n",
       "      <th>50%</th>\n",
       "      <th>75%</th>\n",
       "      <th>max</th>\n",
       "    </tr>\n",
       "  </thead>\n",
       "  <tbody>\n",
       "    <tr>\n",
       "      <th>paid_maternity_leave</th>\n",
       "      <td>1601.0</td>\n",
       "      <td>10.909119</td>\n",
       "      <td>8.024514</td>\n",
       "      <td>0.0</td>\n",
       "      <td>6.0</td>\n",
       "      <td>11.0</td>\n",
       "      <td>12.0</td>\n",
       "      <td>52.0</td>\n",
       "    </tr>\n",
       "    <tr>\n",
       "      <th>unpaid_maternity_leave</th>\n",
       "      <td>1494.0</td>\n",
       "      <td>6.628849</td>\n",
       "      <td>9.274953</td>\n",
       "      <td>0.0</td>\n",
       "      <td>0.0</td>\n",
       "      <td>4.0</td>\n",
       "      <td>10.0</td>\n",
       "      <td>52.0</td>\n",
       "    </tr>\n",
       "    <tr>\n",
       "      <th>paid_paternity_leave</th>\n",
       "      <td>289.0</td>\n",
       "      <td>7.332180</td>\n",
       "      <td>6.817591</td>\n",
       "      <td>0.0</td>\n",
       "      <td>2.0</td>\n",
       "      <td>6.0</td>\n",
       "      <td>12.0</td>\n",
       "      <td>51.0</td>\n",
       "    </tr>\n",
       "    <tr>\n",
       "      <th>unpaid_paternity_leave</th>\n",
       "      <td>64.0</td>\n",
       "      <td>7.734375</td>\n",
       "      <td>6.831863</td>\n",
       "      <td>0.0</td>\n",
       "      <td>2.0</td>\n",
       "      <td>6.0</td>\n",
       "      <td>12.0</td>\n",
       "      <td>29.0</td>\n",
       "    </tr>\n",
       "  </tbody>\n",
       "</table>\n",
       "</div>"
      ],
      "text/plain": [
       "                         count       mean       std  min  25%   50%   75%  \\\n",
       "paid_maternity_leave    1601.0  10.909119  8.024514  0.0  6.0  11.0  12.0   \n",
       "unpaid_maternity_leave  1494.0   6.628849  9.274953  0.0  0.0   4.0  10.0   \n",
       "paid_paternity_leave     289.0   7.332180  6.817591  0.0  2.0   6.0  12.0   \n",
       "unpaid_paternity_leave    64.0   7.734375  6.831863  0.0  2.0   6.0  12.0   \n",
       "\n",
       "                         max  \n",
       "paid_maternity_leave    52.0  \n",
       "unpaid_maternity_leave  52.0  \n",
       "paid_paternity_leave    51.0  \n",
       "unpaid_paternity_leave  29.0  "
      ]
     },
     "execution_count": 36,
     "metadata": {},
     "output_type": "execute_result"
    }
   ],
   "source": [
    "data.describe().T"
   ]
  },
  {
   "cell_type": "code",
   "execution_count": 37,
   "metadata": {},
   "outputs": [],
   "source": [
    "profile = ProfileReport(data, title=\"Pandas Profiling Report\", html={'style':{'full_width':True}}, explorative=True)"
   ]
  },
  {
   "cell_type": "code",
   "execution_count": 38,
   "metadata": {},
   "outputs": [
    {
     "name": "stderr",
     "output_type": "stream",
     "text": [
      "Summarize dataset: 100%|██████████| 33/33 [00:02<00:00, 14.41it/s, Completed]                                             \n",
      "Generate report structure: 100%|██████████| 1/1 [00:01<00:00,  1.68s/it]\n",
      "Render widgets:   0%|          | 0/1 [00:00<?, ?it/s]"
     ]
    },
    {
     "name": "stderr",
     "output_type": "stream",
     "text": [
      "                                                             \r"
     ]
    },
    {
     "data": {
      "application/vnd.jupyter.widget-view+json": {
       "model_id": "5bd210af20514dcca2cf02a60723ea92",
       "version_major": 2,
       "version_minor": 0
      },
      "text/plain": [
       "VBox(children=(Tab(children=(Tab(children=(GridBox(children=(VBox(children=(GridspecLayout(children=(HTML(valu…"
      ]
     },
     "metadata": {},
     "output_type": "display_data"
    }
   ],
   "source": [
    "profile.to_widgets()"
   ]
  },
  {
   "cell_type": "code",
   "execution_count": 39,
   "metadata": {},
   "outputs": [
    {
     "data": {
      "text/plain": [
       "Index(['company', 'paid_maternity_leave', 'unpaid_maternity_leave',\n",
       "       'paid_paternity_leave', 'unpaid_paternity_leave', 'main_industry',\n",
       "       'sub_industry'],\n",
       "      dtype='object')"
      ]
     },
     "execution_count": 39,
     "metadata": {},
     "output_type": "execute_result"
    }
   ],
   "source": [
    "data.columns"
   ]
  },
  {
   "cell_type": "code",
   "execution_count": 43,
   "metadata": {},
   "outputs": [],
   "source": [
    "data['avg_unpaid_leave'] = data[['unpaid_maternity_leave', 'unpaid_paternity_leave']].mean(axis=1)\n",
    "data['avg_paid_leave'] = data[['paid_maternity_leave', 'paid_paternity_leave']].mean(axis=1)\n",
    "data['avg_leave'] = data[['avg_unpaid_leave', 'avg_paid_leave']].mean(axis=1)\n",
    "data['paid_leave_discrepancy'] = data.paid_maternity_leave - data.paid_paternity_leave\n",
    "data['unpaid_leave_discrepancy'] = data.unpaid_maternity_leave - data.unpaid_paternity_leave\n",
    "data['paid_to_unpaid_leave_ratio'] = data.avg_paid_leave / data.avg_unpaid_leave\n",
    "data['paid_to_unpaid_leave_ratio'] = data['paid_to_unpaid_leave_ratio'].replace(np.inf, np.nan)"
   ]
  },
  {
   "cell_type": "code",
   "execution_count": 46,
   "metadata": {},
   "outputs": [],
   "source": [
    "data.to_csv('../data/clean.csv', index=False)"
   ]
  }
 ],
 "metadata": {
  "kernelspec": {
   "display_name": "Python 3",
   "language": "python",
   "name": "python3"
  },
  "language_info": {
   "codemirror_mode": {
    "name": "ipython",
    "version": 3
   },
   "file_extension": ".py",
   "mimetype": "text/x-python",
   "name": "python",
   "nbconvert_exporter": "python",
   "pygments_lexer": "ipython3",
   "version": "3.8.8"
  },
  "orig_nbformat": 4
 },
 "nbformat": 4,
 "nbformat_minor": 2
}
